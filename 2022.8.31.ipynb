{
 "cells": [
  {
   "cell_type": "code",
   "execution_count": 59,
   "id": "1fad54d4",
   "metadata": {},
   "outputs": [
    {
     "name": "stdout",
     "output_type": "stream",
     "text": [
      "re.MULTILINE re.IGNORECASE\n",
      "matchObj.group() : Cats are smarter than \n",
      "matchObj.group(1) : Cats\n",
      "matchObj.group(2) : smarter\n"
     ]
    }
   ],
   "source": [
    "import re\n",
    "line = \"Cats are smarter than \"\n",
    "matchObj = re.match(r'(.*) are (.*?) .*',line)\n",
    "\n",
    "print(re.M,re.I)\n",
    "if matchObj:\n",
    "    print(\"matchObj.group() :\",matchObj.group())\n",
    "    print(\"matchObj.group(1) :\",matchObj.group(1))\n",
    "    print(\"matchObj.group(2) :\",matchObj.group(2))\n",
    "else:\n",
    "    print(\"No match!\")"
   ]
  },
  {
   "cell_type": "code",
   "execution_count": 9,
   "id": "aed19c4a",
   "metadata": {},
   "outputs": [
    {
     "name": "stdout",
     "output_type": "stream",
     "text": [
      "[重要的]今年第七号台风23日登录广东东部沿海地区\n",
      "not match\n",
      "[紧要的]中国对印连发强硬信息，印度急切需要结束对峙\n"
     ]
    }
   ],
   "source": [
    "import re\n",
    "text_string = ['[重要的]今年第七号台风23日登录广东东部沿海地区','上海发布车库销售监管通知：违规者暂停网签资格','[紧要的]中国对印连发强硬信息，印度急切需要结束对峙']\n",
    "regex = '^\\[[重紧]..\\]'\n",
    "\n",
    "for line in text_string:\n",
    "    if re.search(regex,line) is not None:\n",
    "        print(line)\n",
    "    else:\n",
    "        print('not match')"
   ]
  },
  {
   "cell_type": "code",
   "execution_count": 10,
   "id": "c01b70f2",
   "metadata": {},
   "outputs": [
    {
     "name": "stdout",
     "output_type": "stream",
     "text": [
      "match it\n"
     ]
    }
   ],
   "source": [
    "import re\n",
    "if re.search(\"\\\\\\\\\",\"I have one nee\\dle\") is not None:\n",
    "    print(\"match it\")\n",
    "else:\n",
    "    print(\"not match\")"
   ]
  },
  {
   "cell_type": "code",
   "execution_count": 62,
   "id": "60f91fbe",
   "metadata": {},
   "outputs": [
    {
     "name": "stdout",
     "output_type": "stream",
     "text": [
      "-----第1题------\n",
      "文本最重要的来源无疑是网络\n",
      "我们要把网络中的文本获取形成一个文本数据库\n",
      "利用一个爬虫抓取到网络中的信息\n",
      "-----第2题------\n",
      "利用一个爬虫抓取到网络中的信息\n",
      "爬取的策略有广度爬取和深度爬取\n",
      "根据用户的需求，爬虫可以有主题爬虫和通用爬虫之分\n",
      "-----第3题------\n",
      "文本最重要的来源无疑是网络。\n",
      "-----第4题------\n",
      "[在这里]你可以感受到水院学子的魅力\n",
      "not match\n",
      "[在两年]的学生生活中，我们收获颇丰，非常高兴！\n",
      "-----第5题------\n",
      "['2022', '2023']\n"
     ]
    }
   ],
   "source": [
    "import re\n",
    "text_string = \"文本最重要的来源无疑是网络。我们要把网络中的文本获取形成一个文本数据库。利用一个爬虫抓取到网络中的信息。爬取的策略有广度爬取和深度爬取。根据用户的需求，爬虫可以有主题爬虫和通用爬虫之分。\" \n",
    "regex1 = '网络'\n",
    "regex2 = '爬.'\n",
    "regex3 = '^文(.*?)。'\n",
    "p_string = text_string.split('。')\n",
    "print(\"-----第1题------\")\n",
    "for line in p_string:\n",
    "    if re.search(regex1,line) is not None:\n",
    "        print(line)\n",
    "\n",
    "print(\"-----第2题------\")\n",
    "for line in p_string:\n",
    "    if re.search(regex2,line) is not None:\n",
    "        print(line)\n",
    "        \n",
    "print(\"-----第3题------\")\n",
    "\n",
    "line = re.search(regex3,text_string).group()\n",
    "print(line)\n",
    "        \n",
    "\n",
    "print(\"-----第4题------\")\n",
    "\n",
    "text_string = ['[在这里]你可以感受到水院学子的魅力','大数据与人工智能学院是一个很有趣的地方','[在两年]的学生生活中，我们收获颇丰，非常高兴！']\n",
    "regex = '^\\[[在]..\\]'\n",
    "\n",
    "for line in text_string:\n",
    "    if re.search(regex,line) is not None:\n",
    "        print(line)\n",
    "    else:\n",
    "        print('not match')\n",
    "\n",
    "print(\"-----第5题------\")\n",
    "years_string = '2022 was a good year,but 2023 will be better!'\n",
    "years = re.findall('[2][0-9]{3}',years_string)\n",
    "print(years)"
   ]
  },
  {
   "cell_type": "code",
   "execution_count": 64,
   "id": "9779cd6f",
   "metadata": {},
   "outputs": [
    {
     "name": "stdout",
     "output_type": "stream",
     "text": [
      "None\n",
      "<re.Match object; span=(0, 3), match='谢谢您'>\n",
      "<re.Match object; span=(10, 15), match='程序IT圈'>\n",
      "<re.Match object; span=(6, 9), match='公众号'>\n"
     ]
    }
   ],
   "source": [
    "str = '谢谢您，关注公众号：程序IT圈';\n",
    "\n",
    "result = re.match('程序IT圈', str) # match 从左往右找\n",
    "\n",
    "print(result); # None\n",
    "\n",
    "result2 = re.match('谢谢您', str)\n",
    "\n",
    "print(result2); \n",
    "\n",
    "result3 = re.search('程序IT圈', str) # search 定位\n",
    "\n",
    "print(result3); \n",
    "\n",
    "result4 = re.search('公众号', str)\n",
    "\n",
    "print(result4); # Nonere.match() 从第一个字符开始找, 如果第一个字符就不匹配就返回None, 不继续匹配. 用于判断字符串开头或整个字符串是否匹配,速度快.\n"
   ]
  },
  {
   "cell_type": "code",
   "execution_count": null,
   "id": "5611408d",
   "metadata": {},
   "outputs": [],
   "source": []
  }
 ],
 "metadata": {
  "kernelspec": {
   "display_name": "Python 3 (ipykernel)",
   "language": "python",
   "name": "python3"
  },
  "language_info": {
   "codemirror_mode": {
    "name": "ipython",
    "version": 3
   },
   "file_extension": ".py",
   "mimetype": "text/x-python",
   "name": "python",
   "nbconvert_exporter": "python",
   "pygments_lexer": "ipython3",
   "version": "3.9.12"
  }
 },
 "nbformat": 4,
 "nbformat_minor": 5
}
